{
 "cells": [
  {
   "cell_type": "code",
   "execution_count": 1,
   "metadata": {},
   "outputs": [],
   "source": [
    "import csv\n",
    "import matplotlib.pyplot as plt"
   ]
  },
  {
   "cell_type": "code",
   "execution_count": 3,
   "metadata": {},
   "outputs": [],
   "source": [
    "import pandas as pd"
   ]
  },
  {
   "cell_type": "code",
   "execution_count": 5,
   "metadata": {},
   "outputs": [],
   "source": [
    "df = pd.read_csv('.results/gym_mujo:quadruped-v0/Jan-04_00:07:54/log.csv'\n",
    "            )"
   ]
  },
  {
   "cell_type": "code",
   "execution_count": 6,
   "metadata": {},
   "outputs": [
    {
     "data": {
      "text/html": [
       "<div>\n",
       "<style scoped>\n",
       "    .dataframe tbody tr th:only-of-type {\n",
       "        vertical-align: middle;\n",
       "    }\n",
       "\n",
       "    .dataframe tbody tr th {\n",
       "        vertical-align: top;\n",
       "    }\n",
       "\n",
       "    .dataframe thead th {\n",
       "        text-align: right;\n",
       "    }\n",
       "</style>\n",
       "<table border=\"1\" class=\"dataframe\">\n",
       "  <thead>\n",
       "    <tr style=\"text-align: right;\">\n",
       "      <th></th>\n",
       "      <th>_MeanReward</th>\n",
       "      <th>Steps</th>\n",
       "      <th>_mean_obs</th>\n",
       "      <th>_min_obs</th>\n",
       "      <th>_max_obs</th>\n",
       "      <th>_std_obs</th>\n",
       "      <th>_mean_act</th>\n",
       "      <th>_min_act</th>\n",
       "      <th>_max_act</th>\n",
       "      <th>_std_act</th>\n",
       "      <th>...</th>\n",
       "      <th>_std_discrew</th>\n",
       "      <th>_Episode</th>\n",
       "      <th>PolicyLoss</th>\n",
       "      <th>PolicyEntropy</th>\n",
       "      <th>KL</th>\n",
       "      <th>Beta</th>\n",
       "      <th>_lr_multiplier</th>\n",
       "      <th>ValFuncLoss</th>\n",
       "      <th>ExplainedVarNew</th>\n",
       "      <th>ExplainedVarOld</th>\n",
       "    </tr>\n",
       "  </thead>\n",
       "  <tbody>\n",
       "    <tr>\n",
       "      <th>0</th>\n",
       "      <td>-314.701320</td>\n",
       "      <td>7186</td>\n",
       "      <td>0.005411</td>\n",
       "      <td>-12.072806</td>\n",
       "      <td>14.719849</td>\n",
       "      <td>0.234629</td>\n",
       "      <td>-0.030431</td>\n",
       "      <td>-2.985347</td>\n",
       "      <td>2.707559</td>\n",
       "      <td>0.447443</td>\n",
       "      <td>...</td>\n",
       "      <td>0.092812</td>\n",
       "      <td>20</td>\n",
       "      <td>1.528650</td>\n",
       "      <td>7.350885</td>\n",
       "      <td>0.173702</td>\n",
       "      <td>1.500</td>\n",
       "      <td>1.0</td>\n",
       "      <td>0.002195</td>\n",
       "      <td>0.976913</td>\n",
       "      <td>-0.676336</td>\n",
       "    </tr>\n",
       "    <tr>\n",
       "      <th>1</th>\n",
       "      <td>-142.941320</td>\n",
       "      <td>5046</td>\n",
       "      <td>-0.000557</td>\n",
       "      <td>-6.631858</td>\n",
       "      <td>6.717312</td>\n",
       "      <td>0.038410</td>\n",
       "      <td>-0.012291</td>\n",
       "      <td>-2.831709</td>\n",
       "      <td>2.599817</td>\n",
       "      <td>0.394432</td>\n",
       "      <td>...</td>\n",
       "      <td>0.032422</td>\n",
       "      <td>40</td>\n",
       "      <td>-0.032421</td>\n",
       "      <td>7.347173</td>\n",
       "      <td>0.013690</td>\n",
       "      <td>2.250</td>\n",
       "      <td>1.0</td>\n",
       "      <td>0.001500</td>\n",
       "      <td>0.953774</td>\n",
       "      <td>-4.754157</td>\n",
       "    </tr>\n",
       "    <tr>\n",
       "      <th>2</th>\n",
       "      <td>-76.261385</td>\n",
       "      <td>2096</td>\n",
       "      <td>0.000540</td>\n",
       "      <td>-7.942655</td>\n",
       "      <td>6.750283</td>\n",
       "      <td>0.049649</td>\n",
       "      <td>-0.028644</td>\n",
       "      <td>-2.403016</td>\n",
       "      <td>2.497409</td>\n",
       "      <td>0.398212</td>\n",
       "      <td>...</td>\n",
       "      <td>0.023943</td>\n",
       "      <td>60</td>\n",
       "      <td>-0.040139</td>\n",
       "      <td>7.344573</td>\n",
       "      <td>0.012949</td>\n",
       "      <td>3.375</td>\n",
       "      <td>1.0</td>\n",
       "      <td>0.003220</td>\n",
       "      <td>0.865586</td>\n",
       "      <td>-6.418905</td>\n",
       "    </tr>\n",
       "  </tbody>\n",
       "</table>\n",
       "<p>3 rows × 27 columns</p>\n",
       "</div>"
      ],
      "text/plain": [
       "   _MeanReward  Steps  _mean_obs   _min_obs   _max_obs  _std_obs  _mean_act  \\\n",
       "0  -314.701320   7186   0.005411 -12.072806  14.719849  0.234629  -0.030431   \n",
       "1  -142.941320   5046  -0.000557  -6.631858   6.717312  0.038410  -0.012291   \n",
       "2   -76.261385   2096   0.000540  -7.942655   6.750283  0.049649  -0.028644   \n",
       "\n",
       "   _min_act  _max_act  _std_act  ...  _std_discrew  _Episode  PolicyLoss  \\\n",
       "0 -2.985347  2.707559  0.447443  ...      0.092812        20    1.528650   \n",
       "1 -2.831709  2.599817  0.394432  ...      0.032422        40   -0.032421   \n",
       "2 -2.403016  2.497409  0.398212  ...      0.023943        60   -0.040139   \n",
       "\n",
       "   PolicyEntropy        KL   Beta  _lr_multiplier  ValFuncLoss  \\\n",
       "0       7.350885  0.173702  1.500             1.0     0.002195   \n",
       "1       7.347173  0.013690  2.250             1.0     0.001500   \n",
       "2       7.344573  0.012949  3.375             1.0     0.003220   \n",
       "\n",
       "   ExplainedVarNew  ExplainedVarOld  \n",
       "0         0.976913        -0.676336  \n",
       "1         0.953774        -4.754157  \n",
       "2         0.865586        -6.418905  \n",
       "\n",
       "[3 rows x 27 columns]"
      ]
     },
     "execution_count": 6,
     "metadata": {},
     "output_type": "execute_result"
    }
   ],
   "source": []
  },
  {
   "cell_type": "code",
   "execution_count": 10,
   "metadata": {
    "scrolled": true
   },
   "outputs": [
    {
     "data": {
      "image/png": "[encoded data removed]",
      "text/plain": [
       "<Figure size 432x288 with 1 Axes>"
      ]
     },
     "metadata": {
      "needs_background": "light"
     },
     "output_type": "display_data"
    }
   ],
   "source": [
    "plt.cla()\n",
    "plt.xlabel('Episodes')\n",
    "plt.ylabel('Mean reward')\n",
    "plt.plot(df._Episode, df._MeanReward)\n",
    "plt.show()"
   ]
  },
  {
   "cell_type": "code",
   "execution_count": null,
   "metadata": {},
   "outputs": [],
   "source": []
  }
 ],
 "metadata": {
  "kernelspec": {
   "display_name": "venv",
   "language": "python",
   "name": "venv"
  },
  "language_info": {
   "codemirror_mode": {
    "name": "ipython",
    "version": 3
   },
   "file_extension": ".py",
   "mimetype": "text/x-python",
   "name": "python",
   "nbconvert_exporter": "python",
   "pygments_lexer": "ipython3",
   "version": "3.6.12"
  }
 },
 "nbformat": 4,
 "nbformat_minor": 4
}
