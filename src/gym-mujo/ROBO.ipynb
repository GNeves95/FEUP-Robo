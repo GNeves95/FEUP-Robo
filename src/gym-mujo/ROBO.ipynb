{
 "cells": [
  {
   "cell_type": "code",
   "execution_count": 1,
   "metadata": {},
   "outputs": [],
   "source": [
    "import gym\n",
    "import mujoco_py\n",
    "from time import sleep\n",
    "import time\n",
    "\n",
    "import random\n",
    "\n",
    "import numpy as np\n",
    "from tensorflow.keras.models import Sequential\n",
    "from tensorflow.keras.layers import Dense, Flatten\n",
    "from tensorflow.keras.optimizers import Adam\n",
    "\n",
    "from rl.agents import DQNAgent\n",
    "from rl.policy import BoltzmannQPolicy\n",
    "from rl.memory import SequentialMemory"
   ]
  },
  {
   "cell_type": "code",
   "execution_count": 17,
   "metadata": {},
   "outputs": [
    {
     "name": "stdout",
     "output_type": "stream",
     "text": [
      "hey\n"
     ]
    }
   ],
   "source": [
    "env = gym.make('gym_mujo:HalfieCheetah-v2')\n",
    "#env =gym.make('CartPole-v0')\n",
    "states = env.observation_space.shape[0]"
   ]
  },
  {
   "cell_type": "code",
   "execution_count": 3,
   "metadata": {},
   "outputs": [],
   "source": [
    "actions = env.action_space.shape[0]\n",
    "\n",
    "def build_model(states, actions):\n",
    "    model = Sequential()\n",
    "    model.add(Flatten(input_shape=(1,states)))\n",
    "    model.add(Dense(24, activation='relu'))\n",
    "    model.add(Dense(24, activation='relu'))\n",
    "    model.add(Dense(24, activation='relu'))\n",
    "    model.add(Dense(actions, activation='linear'))\n",
    "    return model\n",
    "\n",
    "model = build_model(states, actions)\n",
    "\n",
    "def build_agent(model, actions):\n",
    "    policy = BoltzmannQPolicy()\n",
    "    memory = SequentialMemory(limit=50000000, window_length=1)\n",
    "    dqn = DQNAgent(model=model, memory=memory, policy=policy, \n",
    "                  nb_actions=actions, nb_steps_warmup=200, target_model_update=1e-2)\n",
    "    return dqn\n",
    "dqn = build_agent(model, actions)\n",
    "dqn.compile(Adam(lr=1e-3), metrics=['mae'])"
   ]
  },
  {
   "cell_type": "code",
   "execution_count": 5,
   "metadata": {},
   "outputs": [],
   "source": [
    "dqn.load_weights('dqn_low_weights.h5f')"
   ]
  },
  {
   "cell_type": "code",
   "execution_count": 6,
   "metadata": {},
   "outputs": [
    {
     "name": "stdout",
     "output_type": "stream",
     "text": [
      "Testing for 5 episodes ...\n",
      "WARNING:tensorflow:From /home/dean/FEUP/ROBO/Proj/FEUP-Robo/src/venv/lib/python3.6/site-packages/tensorflow/python/keras/engine/training_v1.py:2070: Model.state_updates (from tensorflow.python.keras.engine.training) is deprecated and will be removed in a future version.\n",
      "Instructions for updating:\n",
      "This property should not be used in TensorFlow 2.0, as updates are applied automatically.\n",
      "Creating window glfw\n",
      "Episode 1: reward: 990.963, steps: 1000\n",
      "Episode 2: reward: 999.708, steps: 1000\n",
      "Episode 3: reward: 1006.572, steps: 1000\n"
     ]
    },
    {
     "ename": "SystemExit",
     "evalue": "0",
     "output_type": "error",
     "traceback": [
      "An exception has occurred, use %tb to see the full traceback.\n",
      "\u001b[0;31mSystemExit\u001b[0m\u001b[0;31m:\u001b[0m 0\n"
     ]
    },
    {
     "name": "stderr",
     "output_type": "stream",
     "text": [
      "/home/dean/FEUP/ROBO/Proj/FEUP-Robo/src/venv/lib/python3.6/site-packages/IPython/core/interactiveshell.py:3351: UserWarning: To exit: use 'exit', 'quit', or Ctrl-D.\n",
      "  warn(\"To exit: use 'exit', 'quit', or Ctrl-D.\", stacklevel=1)\n"
     ]
    }
   ],
   "source": [
    "_ = dqn.test(env, nb_episodes=5, visualize=True)\n",
    "env.close()"
   ]
  },
  {
   "cell_type": "code",
   "execution_count": 6,
   "metadata": {},
   "outputs": [],
   "source": []
  },
  {
   "cell_type": "code",
   "execution_count": null,
   "metadata": {},
   "outputs": [],
   "source": []
  },
  {
   "cell_type": "code",
   "execution_count": 3,
   "metadata": {},
   "outputs": [
    {
     "name": "stdout",
     "output_type": "stream",
     "text": [
      "Creating window glfw\n",
      "Score: -3.674109199941034\n",
      " Timeleft: 59.99999785423279\n",
      "Score: -4.757323954390036\n",
      " Timeleft: 59.84014081954956\n",
      "Score: -8.305753047766707\n",
      " Timeleft: 59.82127618789673\n",
      "Score: -15.361699280776152\n",
      " Timeleft: 59.81923484802246\n",
      "Score: -31.820773478483794\n",
      " Timeleft: 59.796756982803345\n",
      "Score: -38.34564057593609\n",
      " Timeleft: 59.791937828063965\n",
      "Score: -45.46903826673183\n",
      " Timeleft: 59.78504800796509\n",
      "Score: -48.900455611464096\n",
      " Timeleft: 59.78042793273926\n",
      "Score: -55.85416884960198\n",
      " Timeleft: 59.763731956481934\n",
      "Score: -62.826724432243495\n",
      " Timeleft: 59.759429931640625\n",
      "Score: -62.31938986074696\n",
      " Timeleft: 59.750263690948486\n",
      "Score: -79.33016558386971\n",
      " Timeleft: 59.72454619407654\n",
      "Score: -86.35611435213988\n",
      " Timeleft: 59.7169463634491\n",
      "Score: -89.89792755859926\n",
      " Timeleft: 59.708033323287964\n",
      "Score: -113.40101139062864\n",
      " Timeleft: 59.685856342315674\n",
      "Score: -130.39708449560752\n",
      " Timeleft: 59.680160999298096\n",
      "Score: -153.89652092184983\n",
      " Timeleft: 59.66098594665527\n",
      "Score: -153.39646211479115\n",
      " Timeleft: 59.64920353889465\n",
      "Score: -154.39645634916727\n",
      " Timeleft: 59.643929958343506\n",
      "Score: -157.89645591601433\n",
      " Timeleft: 59.62533950805664\n",
      "Score: -156.90431735097096\n",
      " Timeleft: 59.618043184280396\n",
      "Score: -155.91259194240212\n",
      " Timeleft: 59.59334993362427\n",
      "Score: -156.89951903366207\n",
      " Timeleft: 59.58556151390076\n",
      "Score: -168.42030199270533\n",
      " Timeleft: 59.57735824584961\n",
      "Score: -175.4197668988916\n",
      " Timeleft: 59.56953406333923\n",
      "Score: -192.41926530927185\n",
      " Timeleft: 59.549777030944824\n",
      "Score: -215.9192071775849\n",
      " Timeleft: 59.542871952056885\n",
      "Score: -219.41920082985257\n",
      " Timeleft: 59.52448391914368\n",
      "Score: -226.4192002275916\n",
      " Timeleft: 59.49742293357849\n",
      "Score: -225.91919999097132\n",
      " Timeleft: 59.48626923561096\n",
      "Score: -237.41919969858716\n",
      " Timeleft: 59.47367286682129\n",
      "Score: -244.41919939923613\n",
      " Timeleft: 59.45173931121826\n",
      "Score: -245.41919909924584\n",
      " Timeleft: 59.44538164138794\n",
      "Score: -244.9191987991941\n",
      " Timeleft: 59.4259078502655\n",
      "Score: -256.4191984991379\n",
      " Timeleft: 59.40318727493286\n",
      "Score: -255.91919819908145\n",
      " Timeleft: 59.39350986480713\n",
      "Score: -272.919197899025\n",
      " Timeleft: 59.369975566864014\n",
      "Score: -276.41919759896854\n",
      " Timeleft: 59.35803461074829\n",
      "Score: -275.4270662102757\n",
      " Timeleft: 59.33712887763977\n",
      "Score: -276.42333366909276\n",
      " Timeleft: 59.32683086395264\n",
      "Score: -277.4206824228051\n",
      " Timeleft: 59.30793118476868\n",
      "Score: -300.9204920669381\n",
      " Timeleft: 59.29873752593994\n",
      "Score: -301.92048322436824\n",
      " Timeleft: 59.268601417541504\n",
      "Score: -308.92048237813515\n",
      " Timeleft: 59.23797821998596\n",
      "Score: -325.92048236099475\n",
      " Timeleft: 59.225594997406006\n",
      "Score: -349.42048256112184\n",
      " Timeleft: 59.2020161151886\n",
      "Score: -348.9204828536769\n",
      " Timeleft: 59.192649602890015\n",
      "Score: -365.92048315644456\n",
      " Timeleft: 59.17435598373413\n",
      "Score: -377.42048346014207\n",
      " Timeleft: 59.14581274986267\n",
      "Score: -376.92048376391773\n",
      " Timeleft: 59.133047342300415\n",
      "Score: -377.92048406769925\n",
      " Timeleft: 59.12088346481323\n",
      "Score: -389.4204843714811\n",
      " Timeleft: 59.10118317604065\n",
      "Score: -388.4283532462795\n",
      " Timeleft: 59.09471035003662\n",
      "Score: -391.92462089095625\n",
      " Timeleft: 59.06639528274536\n",
      "Score: -403.42196963512265\n",
      " Timeleft: 59.0528507232666\n",
      "Score: -402.4294175710696\n",
      " Timeleft: 59.04304575920105\n",
      "Score: -401.4377555275806\n",
      " Timeleft: 59.023252964019775\n",
      "Score: -400.92492504186936\n",
      " Timeleft: 59.0136878490448\n",
      "Score: -424.4458210898667\n",
      " Timeleft: 59.00692343711853\n",
      "Score: -423.94493024643685\n",
      " Timeleft: 58.94889283180237\n",
      "Score: -435.44439523474654\n",
      " Timeleft: 58.93421459197998\n",
      "Score: -446.9443369928276\n",
      " Timeleft: 58.92823576927185\n",
      "Score: -445.95220343856465\n",
      " Timeleft: 58.90849328041077\n",
      "Score: -449.44846415906176\n",
      " Timeleft: 58.88879203796387\n",
      "Score: -472.9458164622639\n",
      " Timeleft: 58.86803197860718\n",
      "Score: -484.44562714540416\n",
      " Timeleft: 58.86152982711792\n",
      "Score: -483.4535042513062\n",
      " Timeleft: 58.833070516586304\n",
      "Score: -482.46177383957905\n",
      " Timeleft: 58.81849908828735\n",
      "Score: -499.44872930073234\n",
      " Timeleft: 58.81115245819092\n",
      "Score: -510.9695101563977\n",
      " Timeleft: 58.78809475898743\n",
      "Score: -534.4689357653451\n",
      " Timeleft: 58.76965880393982\n",
      "Score: -557.9684319680223\n",
      " Timeleft: 58.760162591934204\n",
      "Score: -557.4683740975547\n",
      " Timeleft: 58.7401556968689\n",
      "Score: -556.476247427915\n",
      " Timeleft: 58.7300546169281\n",
      "Score: -555.48458085107\n",
      " Timeleft: 58.721911907196045\n",
      "Score: -556.4715567493636\n",
      " Timeleft: 58.69093680381775\n",
      "Score: -579.9923221152062\n",
      " Timeleft: 58.68110251426697\n",
      "Score: -596.9917373584915\n",
      " Timeleft: 58.6743597984314\n",
      "Score: -608.4912317128524\n",
      " Timeleft: 58.62260723114014\n",
      "Score: -607.4990339340327\n",
      " Timeleft: 58.61232042312622\n",
      "Score: -630.9952644861374\n",
      " Timeleft: 58.60533833503723\n",
      "Score: -654.4926537925411\n",
      " Timeleft: 58.57165169715881\n",
      "Score: -677.992474778744\n",
      " Timeleft: 58.558987855911255\n",
      "Score: -694.992467401527\n",
      " Timeleft: 58.55207443237305\n",
      "Score: -701.9924667187569\n",
      " Timeleft: 58.53475737571716\n",
      "Score: -718.9924667177604\n",
      " Timeleft: 58.52713656425476\n",
      "Score: -719.9924669217005\n",
      " Timeleft: 58.50813436508179\n",
      "Score: -731.4924672180532\n",
      " Timeleft: 58.48070502281189\n",
      "Score: -732.49246752465\n",
      " Timeleft: 58.4659104347229\n",
      "Score: -743.992467832181\n",
      " Timeleft: 58.45928883552551\n",
      "Score: -755.4924681397907\n",
      " Timeleft: 58.43851137161255\n",
      "Score: -754.9924684474064\n",
      " Timeleft: 58.407511949539185\n",
      "Score: -755.9924687550225\n",
      " Timeleft: 58.39789915084839\n",
      "Score: -759.4924690626386\n",
      " Timeleft: 58.39130663871765\n",
      "Score: -760.4924693702548\n",
      " Timeleft: 58.373950242996216\n",
      "Score: -783.9924696778709\n",
      " Timeleft: 58.352803468704224\n",
      "Score: -795.492469985487\n",
      " Timeleft: 58.34371900558472\n",
      "Score: -818.9924702931031\n",
      " Timeleft: 58.324989557266235\n",
      "Score: -818.4924706007192\n",
      " Timeleft: 58.293349742889404\n",
      "Score: -829.9924709083353\n",
      " Timeleft: 58.289328813552856\n",
      "Score: -853.4924712159515\n",
      " Timeleft: 58.26513671875\n",
      "Score: -854.4924715235676\n",
      " Timeleft: 58.24261546134949\n",
      "Score: -853.5003616283939\n",
      " Timeleft: 58.23304867744446\n",
      "Score: -852.996615932198\n",
      " Timeleft: 58.222002029418945\n",
      "Score: -859.9939606116028\n",
      " Timeleft: 58.200886964797974\n",
      "Score: -871.493769419258\n",
      " Timeleft: 58.19455099105835\n",
      "Score: -874.9937604339128\n",
      " Timeleft: 58.17625951766968\n",
      "Score: -875.9937595714349\n",
      " Timeleft: 58.15715980529785\n",
      "Score: -882.9937595527688\n",
      " Timeleft: 58.1531548500061\n",
      "Score: -886.4937597527213\n",
      " Timeleft: 58.13556480407715\n",
      "Score: -903.4937600452091\n",
      " Timeleft: 58.12605261802673\n",
      "Score: -904.4937603479214\n",
      " Timeleft: 58.10165596008301\n",
      "Score: -907.9937606515649\n",
      " Timeleft: 58.08341383934021\n",
      "Score: -914.9937609552868\n",
      " Timeleft: 58.07134437561035\n",
      "Score: -915.9937612590145\n",
      " Timeleft: 58.04843187332153\n",
      "Score: -939.4937615627425\n",
      " Timeleft: 58.03976082801819\n",
      "Score: -938.5016514914744\n",
      " Timeleft: 58.0214478969574\n",
      "Score: -939.4979059028084\n",
      " Timeleft: 58.00319957733154\n",
      "Score: -938.5025493809876\n",
      " Timeleft: 57.9936146736145\n",
      "Score: -955.4981219431147\n",
      " Timeleft: 57.96589493751526\n",
      "Score: -956.4957404574733\n",
      " Timeleft: 57.95911526679993\n",
      "Score: -963.4956585622969\n",
      " Timeleft: 57.93652701377869\n",
      "Score: -964.4956652317364\n",
      " Timeleft: 57.907174587249756\n",
      "Score: -971.4956662079722\n",
      " Timeleft: 57.89735245704651\n",
      "Score: -970.5035563510228\n",
      " Timeleft: 57.89052605628967\n",
      "Score: -969.511852302428\n",
      " Timeleft: 57.86752772331238\n",
      "Score: -980.9987977611789\n",
      " Timeleft: 57.850191593170166\n",
      "Score: -980.5195637720515\n",
      " Timeleft: 57.841896533966064\n",
      "Score: -1004.0190423709005\n",
      " Timeleft: 57.82517862319946\n",
      "Score: -1021.0185443947498\n",
      " Timeleft: 57.78450107574463\n",
      "Score: -1044.518486711269\n",
      " Timeleft: 57.76853156089783\n",
      "Score: -1045.5184804102225\n",
      " Timeleft: 57.76070547103882\n",
      "Score: -1044.526376550713\n",
      " Timeleft: 57.73836088180542\n",
      "Score: -1043.5346780096388\n",
      " Timeleft: 57.71770453453064\n",
      "Score: -1067.0216276100466\n",
      " Timeleft: 57.71039795875549\n",
      "Score: -1090.5423892924064\n",
      " Timeleft: 57.68583273887634\n",
      "Score: -1089.5485011378305\n",
      " Timeleft: 57.66842293739319\n",
      "Score: -1088.5581025119795\n",
      " Timeleft: 57.6607871055603\n",
      "Score: -1092.0454919746537\n",
      " Timeleft: 57.64167618751526\n",
      "Score: -1095.566005608886\n",
      " Timeleft: 57.622215032577515\n",
      "Score: -1119.0657292369333\n",
      " Timeleft: 57.60119986534119\n",
      "Score: -1136.0652052742373\n",
      " Timeleft: 57.5949649810791\n",
      "Score: -1135.0730166904189\n",
      " Timeleft: 57.56898355484009\n",
      "Score: -1146.5692311341252\n",
      " Timeleft: 57.55296015739441\n",
      "Score: -1145.574263601535\n",
      " Timeleft: 57.54328513145447\n",
      "Score: -1146.5696368897356\n",
      " Timeleft: 57.52233624458313\n",
      "Score: -1158.0672637933671\n",
      " Timeleft: 57.51223683357239\n",
      "Score: -1175.067197881278\n",
      " Timeleft: 57.47695708274841\n",
      "Score: -1174.0751333413784\n",
      " Timeleft: 57.45845365524292\n",
      "Score: -1173.0834340869662\n",
      " Timeleft: 57.4510657787323\n",
      "Score: -1172.0899826598454\n",
      " Timeleft: 57.434998989105225\n"
     ]
    },
    {
     "name": "stdout",
     "output_type": "stream",
     "text": [
      "Score: -1171.5991424556219\n",
      " Timeleft: 57.42758512496948\n",
      "Score: -1171.0972332116723\n",
      " Timeleft: 57.40618848800659\n",
      "Score: -1174.592544964127\n",
      " Timeleft: 57.37651491165161\n",
      "Score: -1175.592439155847\n",
      " Timeleft: 57.358339071273804\n",
      "Score: -1192.592493611857\n",
      " Timeleft: 57.331568479537964\n",
      "Score: -1199.5925036736867\n",
      " Timeleft: 57.31430268287659\n",
      "Score: -1206.5925051367383\n",
      " Timeleft: 57.30747413635254\n",
      "Score: -1213.5925055398818\n",
      " Timeleft: 57.29205513000488\n",
      "Score: -1237.0925058501487\n",
      " Timeleft: 57.27063274383545\n",
      "Score: -1248.592506149412\n",
      " Timeleft: 57.25003671646118\n",
      "Score: -1249.5925064476542\n",
      " Timeleft: 57.242069721221924\n",
      "Score: -1261.0925067458065\n",
      " Timeleft: 57.226155519485474\n",
      "Score: -1278.092507043948\n",
      " Timeleft: 57.20710253715515\n",
      "Score: -1289.5925073420883\n",
      " Timeleft: 57.17888617515564\n",
      "Score: -1293.0925076402286\n",
      " Timeleft: 57.16235089302063\n",
      "Score: -1294.092507938369\n",
      " Timeleft: 57.154563665390015\n",
      "Score: -1293.1003987829047\n",
      " Timeleft: 57.13585805892944\n",
      "Score: -1300.09665270113\n",
      " Timeleft: 57.12641763687134\n",
      "Score: -1323.593997202935\n",
      " Timeleft: 57.10412311553955\n",
      "Score: -1335.093805969817\n",
      " Timeleft: 57.09266114234924\n",
      "Score: -1346.5937969779538\n",
      " Timeleft: 57.07358169555664\n",
      "Score: -1363.5937961147342\n",
      " Timeleft: 57.062418699264526\n",
      "Score: -1375.0937960959973\n",
      " Timeleft: 57.0551495552063\n",
      "Score: -1374.101686644012\n",
      " Timeleft: 57.02487325668335\n",
      "Score: -1377.59794061257\n",
      " Timeleft: 57.014655351638794\n",
      "Score: -1394.59528515322\n",
      " Timeleft: 56.98392987251282\n",
      "Score: -1394.0950939299225\n",
      " Timeleft: 56.96914267539978\n",
      "Score: -1401.0950849396518\n",
      " Timeleft: 56.96044731140137\n",
      "Score: -1400.1029757616104\n",
      " Timeleft: 56.92965316772461\n",
      "Score: -1417.0992308965967\n",
      " Timeleft: 56.917548179626465\n",
      "Score: -1428.5965722218637\n",
      " Timeleft: 56.90051984786987\n",
      "Score: -1452.0963800775037\n",
      " Timeleft: 56.89411950111389\n",
      "Score: -1455.5963709634111\n",
      " Timeleft: 56.87294030189514\n",
      "Score: -1455.0963700864759\n",
      " Timeleft: 56.841819286346436\n",
      "Score: -1478.5963700663667\n",
      " Timeleft: 56.832916259765625\n",
      "Score: -1477.6042602690538\n",
      " Timeleft: 56.8262140750885\n",
      "Score: -1477.1005144544836\n",
      " Timeleft: 56.80779433250427\n",
      "Score: -1476.5978590612103\n",
      " Timeleft: 56.773855447769165\n",
      "Score: -1476.0976678514282\n",
      " Timeleft: 56.76371645927429\n",
      "Score: -1475.1055588410297\n",
      " Timeleft: 56.75601601600647\n",
      "Score: -1498.6013494559134\n",
      " Timeleft: 56.740025997161865\n",
      "Score: -1499.5992621480636\n",
      " Timeleft: 56.71639633178711\n",
      "Score: -1498.606452159705\n",
      " Timeleft: 56.70855355262756\n",
      "Score: -1502.1026128876435\n",
      " Timeleft: 56.68848514556885\n",
      "Score: -1501.1080351159208\n",
      " Timeleft: 56.657994985580444\n",
      "Score: -1524.6033325778806\n",
      " Timeleft: 56.648205041885376\n",
      "Score: -1531.6014444991065\n",
      " Timeleft: 56.641369581222534\n",
      "Score: -1535.1011544409785\n",
      " Timeleft: 56.613394021987915\n",
      "Score: -1558.6011078320716\n",
      " Timeleft: 56.594781160354614\n",
      "Score: -1565.6011017093879\n",
      " Timeleft: 56.587557792663574\n",
      "Score: -1577.1011010645236\n",
      " Timeleft: 56.56973075866699\n",
      "Score: -1600.601101165713\n",
      " Timeleft: 56.55174469947815\n",
      "Score: -1601.6011013701313\n",
      " Timeleft: 56.543444871902466\n",
      "Score: -1625.1011015844251\n",
      " Timeleft: 56.51856803894043\n",
      "Score: -1636.601101799579\n",
      " Timeleft: 56.49129676818848\n",
      "Score: -1648.1011020148026\n",
      " Timeleft: 56.481937885284424\n",
      "Score: -1647.601102230031\n",
      " Timeleft: 56.475258111953735\n",
      "Score: -1659.1011024452598\n",
      " Timeleft: 56.45823574066162\n",
      "Score: -1662.6011026604886\n",
      " Timeleft: 56.43618083000183\n",
      "Score: -1686.1011028757173\n",
      " Timeleft: 56.42738628387451\n",
      "Score: -1687.101103090946\n",
      " Timeleft: 56.40912199020386\n",
      "Score: -1686.6011033061748\n",
      " Timeleft: 56.38226294517517\n",
      "Score: -1685.60899312631\n",
      " Timeleft: 56.368279695510864\n",
      "Score: -1686.6052474867365\n",
      " Timeleft: 56.36116552352905\n",
      "Score: -1698.1025922429571\n",
      " Timeleft: 56.34182000160217\n",
      "Score: -1709.6024010706217\n",
      " Timeleft: 56.337769746780396\n",
      "Score: -1709.1023920882585\n",
      " Timeleft: 56.30797004699707\n",
      "Score: -1710.10239122612\n",
      " Timeleft: 56.29826021194458\n",
      "Score: -1713.602391207487\n",
      " Timeleft: 56.29152464866638\n",
      "Score: -1713.1023914074456\n",
      " Timeleft: 56.258938789367676\n",
      "Score: -1716.6023916999382\n",
      " Timeleft: 56.24943828582764\n",
      "Score: -1728.102392002655\n",
      " Timeleft: 56.24290990829468\n",
      "Score: -1727.6023923063033\n",
      " Timeleft: 56.22525072097778\n",
      "Score: -1728.60239261003\n",
      " Timeleft: 56.192763805389404\n",
      "Score: -1728.1023929137623\n",
      " Timeleft: 56.18265986442566\n",
      "Score: -1731.602393217495\n",
      " Timeleft: 56.17621040344238\n",
      "Score: -1748.602393521228\n",
      " Timeleft: 56.15822887420654\n",
      "Score: -1747.6102832584234\n",
      " Timeleft: 56.13300108909607\n",
      "Score: -1759.1065377901773\n",
      " Timeleft: 56.12425351142883\n",
      "Score: -1770.603882540037\n",
      " Timeleft: 56.10900831222534\n",
      "Score: -1774.1036913621729\n",
      " Timeleft: 56.07517147064209\n",
      "Score: -1775.1036823793\n",
      " Timeleft: 56.07214975357056\n",
      "Score: -1798.6036815171033\n",
      " Timeleft: 56.0622718334198\n",
      "Score: -1797.6115709696874\n",
      " Timeleft: 56.04248380661011\n",
      "Score: -1804.6078257063784\n",
      " Timeleft: 56.03301525115967\n",
      "Score: -1805.605170113923\n",
      " Timeleft: 56.02624154090881\n",
      "Score: -1812.6049788378962\n",
      " Timeleft: 56.00894212722778\n",
      "Score: -1819.6049698421562\n",
      " Timeleft: 55.99054503440857\n"
     ]
    },
    {
     "ename": "SystemExit",
     "evalue": "0",
     "output_type": "error",
     "traceback": [
      "An exception has occurred, use %tb to see the full traceback.\n",
      "\u001b[0;31mSystemExit\u001b[0m\u001b[0;31m:\u001b[0m 0\n"
     ]
    },
    {
     "name": "stderr",
     "output_type": "stream",
     "text": [
      "/home/dean/FEUP/ROBO/Proj/FEUP-Robo/src/venv/lib/python3.6/site-packages/IPython/core/interactiveshell.py:3351: UserWarning: To exit: use 'exit', 'quit', or Ctrl-D.\n",
      "  warn(\"To exit: use 'exit', 'quit', or Ctrl-D.\", stacklevel=1)\n"
     ]
    }
   ],
   "source": [
    "actions = env.action_space.shape[0]\n",
    "episodes = 10\n",
    "timeout = 60\n",
    "for episode in range(1, episodes+1):\n",
    "    state = env.reset()\n",
    "    done = False\n",
    "    score = 0\n",
    "    timeout_start = time.time()\n",
    "    timeout_end = timeout_start + 60\n",
    "    while not done or (time.time() < timeout_end):\n",
    "        t = timeout_end - time.time()\n",
    "        env.render()\n",
    "        #action = env.action_space.sample()\n",
    "        action = random.choice(range(0,actions))\n",
    "        n_state, reward, done, info = env.step(action)\n",
    "        score += reward\n",
    "        print('Score: {}\\n Timeleft: {}'.format(score, t))\n",
    "    print ('Episode: {} Score: {}'.format(episode, score))\n",
    "env.close()"
   ]
  },
  {
   "cell_type": "code",
   "execution_count": 15,
   "metadata": {},
   "outputs": [
    {
     "data": {
      "text/plain": [
       "Discrete(2)"
      ]
     },
     "execution_count": 15,
     "metadata": {},
     "output_type": "execute_result"
    }
   ],
   "source": [
    "env.action_space"
   ]
  },
  {
   "cell_type": "code",
   "execution_count": 14,
   "metadata": {},
   "outputs": [
    {
     "data": {
      "text/plain": [
       "Discrete(2)"
      ]
     },
     "execution_count": 14,
     "metadata": {},
     "output_type": "execute_result"
    }
   ],
   "source": [
    "env.action_space"
   ]
  },
  {
   "cell_type": "code",
   "execution_count": 30,
   "metadata": {},
   "outputs": [
    {
     "data": {
      "text/plain": [
       "7"
      ]
     },
     "execution_count": 30,
     "metadata": {},
     "output_type": "execute_result"
    }
   ],
   "source": [
    "random.choice(range(0,actions))"
   ]
  },
  {
   "cell_type": "code",
   "execution_count": 10,
   "metadata": {},
   "outputs": [
    {
     "data": {
      "text/plain": [
       "list"
      ]
     },
     "execution_count": 10,
     "metadata": {},
     "output_type": "execute_result"
    }
   ],
   "source": [
    "type([0,1])"
   ]
  },
  {
   "cell_type": "code",
   "execution_count": 23,
   "metadata": {},
   "outputs": [
    {
     "ename": "AttributeError",
     "evalue": "'HalfCheetahEnvV2' object has no attribute 'get_action_meanings'",
     "output_type": "error",
     "traceback": [
      "\u001b[0;31m---------------------------------------------------------------------------\u001b[0m",
      "\u001b[0;31mAttributeError\u001b[0m                            Traceback (most recent call last)",
      "\u001b[0;32m<ipython-input-23-06f5460cc858>\u001b[0m in \u001b[0;36m<module>\u001b[0;34m\u001b[0m\n\u001b[0;32m----> 1\u001b[0;31m \u001b[0mprint\u001b[0m\u001b[0;34m(\u001b[0m\u001b[0menv\u001b[0m\u001b[0;34m.\u001b[0m\u001b[0munwrapped\u001b[0m\u001b[0;34m.\u001b[0m\u001b[0mget_action_meanings\u001b[0m\u001b[0;34m(\u001b[0m\u001b[0;34m)\u001b[0m\u001b[0;34m)\u001b[0m\u001b[0;34m\u001b[0m\u001b[0;34m\u001b[0m\u001b[0m\n\u001b[0m",
      "\u001b[0;31mAttributeError\u001b[0m: 'HalfCheetahEnvV2' object has no attribute 'get_action_meanings'"
     ]
    }
   ],
   "source": [
    "print(env.unwrapped.get_action_meanings())"
   ]
  },
  {
   "cell_type": "code",
   "execution_count": 29,
   "metadata": {},
   "outputs": [
    {
     "ename": "AttributeError",
     "evalue": "module 'gym.envs.box2d' has no attribute 'BipedalWalker'",
     "output_type": "error",
     "traceback": [
      "\u001b[0;31m---------------------------------------------------------------------------\u001b[0m",
      "\u001b[0;31mAttributeError\u001b[0m                            Traceback (most recent call last)",
      "\u001b[0;32m<ipython-input-29-555e6f3dd486>\u001b[0m in \u001b[0;36m<module>\u001b[0;34m\u001b[0m\n\u001b[0;32m----> 1\u001b[0;31m \u001b[0menv1\u001b[0m \u001b[0;34m=\u001b[0m \u001b[0mgym\u001b[0m\u001b[0;34m.\u001b[0m\u001b[0mmake\u001b[0m\u001b[0;34m(\u001b[0m\u001b[0;34m\"BipedalWalker-v3\"\u001b[0m\u001b[0;34m)\u001b[0m\u001b[0;34m\u001b[0m\u001b[0;34m\u001b[0m\u001b[0m\n\u001b[0m",
      "\u001b[0;32m~/FEUP/ROBO/Proj/FEUP-Robo/src/venv/lib/python3.6/site-packages/gym/envs/registration.py\u001b[0m in \u001b[0;36mmake\u001b[0;34m(id, **kwargs)\u001b[0m\n\u001b[1;32m    143\u001b[0m \u001b[0;34m\u001b[0m\u001b[0m\n\u001b[1;32m    144\u001b[0m \u001b[0;32mdef\u001b[0m \u001b[0mmake\u001b[0m\u001b[0;34m(\u001b[0m\u001b[0mid\u001b[0m\u001b[0;34m,\u001b[0m \u001b[0;34m**\u001b[0m\u001b[0mkwargs\u001b[0m\u001b[0;34m)\u001b[0m\u001b[0;34m:\u001b[0m\u001b[0;34m\u001b[0m\u001b[0;34m\u001b[0m\u001b[0m\n\u001b[0;32m--> 145\u001b[0;31m     \u001b[0;32mreturn\u001b[0m \u001b[0mregistry\u001b[0m\u001b[0;34m.\u001b[0m\u001b[0mmake\u001b[0m\u001b[0;34m(\u001b[0m\u001b[0mid\u001b[0m\u001b[0;34m,\u001b[0m \u001b[0;34m**\u001b[0m\u001b[0mkwargs\u001b[0m\u001b[0;34m)\u001b[0m\u001b[0;34m\u001b[0m\u001b[0;34m\u001b[0m\u001b[0m\n\u001b[0m\u001b[1;32m    146\u001b[0m \u001b[0;34m\u001b[0m\u001b[0m\n\u001b[1;32m    147\u001b[0m \u001b[0;32mdef\u001b[0m \u001b[0mspec\u001b[0m\u001b[0;34m(\u001b[0m\u001b[0mid\u001b[0m\u001b[0;34m)\u001b[0m\u001b[0;34m:\u001b[0m\u001b[0;34m\u001b[0m\u001b[0;34m\u001b[0m\u001b[0m\n",
      "\u001b[0;32m~/FEUP/ROBO/Proj/FEUP-Robo/src/venv/lib/python3.6/site-packages/gym/envs/registration.py\u001b[0m in \u001b[0;36mmake\u001b[0;34m(self, path, **kwargs)\u001b[0m\n\u001b[1;32m     88\u001b[0m             \u001b[0mlogger\u001b[0m\u001b[0;34m.\u001b[0m\u001b[0minfo\u001b[0m\u001b[0;34m(\u001b[0m\u001b[0;34m'Making new env: %s'\u001b[0m\u001b[0;34m,\u001b[0m \u001b[0mpath\u001b[0m\u001b[0;34m)\u001b[0m\u001b[0;34m\u001b[0m\u001b[0;34m\u001b[0m\u001b[0m\n\u001b[1;32m     89\u001b[0m         \u001b[0mspec\u001b[0m \u001b[0;34m=\u001b[0m \u001b[0mself\u001b[0m\u001b[0;34m.\u001b[0m\u001b[0mspec\u001b[0m\u001b[0;34m(\u001b[0m\u001b[0mpath\u001b[0m\u001b[0;34m)\u001b[0m\u001b[0;34m\u001b[0m\u001b[0;34m\u001b[0m\u001b[0m\n\u001b[0;32m---> 90\u001b[0;31m         \u001b[0menv\u001b[0m \u001b[0;34m=\u001b[0m \u001b[0mspec\u001b[0m\u001b[0;34m.\u001b[0m\u001b[0mmake\u001b[0m\u001b[0;34m(\u001b[0m\u001b[0;34m**\u001b[0m\u001b[0mkwargs\u001b[0m\u001b[0;34m)\u001b[0m\u001b[0;34m\u001b[0m\u001b[0;34m\u001b[0m\u001b[0m\n\u001b[0m\u001b[1;32m     91\u001b[0m         \u001b[0;31m# We used to have people override _reset/_step rather than\u001b[0m\u001b[0;34m\u001b[0m\u001b[0;34m\u001b[0m\u001b[0;34m\u001b[0m\u001b[0m\n\u001b[1;32m     92\u001b[0m         \u001b[0;31m# reset/step. Set _gym_disable_underscore_compat = True on\u001b[0m\u001b[0;34m\u001b[0m\u001b[0;34m\u001b[0m\u001b[0;34m\u001b[0m\u001b[0m\n",
      "\u001b[0;32m~/FEUP/ROBO/Proj/FEUP-Robo/src/venv/lib/python3.6/site-packages/gym/envs/registration.py\u001b[0m in \u001b[0;36mmake\u001b[0;34m(self, **kwargs)\u001b[0m\n\u001b[1;32m     57\u001b[0m             \u001b[0menv\u001b[0m \u001b[0;34m=\u001b[0m \u001b[0mself\u001b[0m\u001b[0;34m.\u001b[0m\u001b[0mentry_point\u001b[0m\u001b[0;34m(\u001b[0m\u001b[0;34m**\u001b[0m\u001b[0m_kwargs\u001b[0m\u001b[0;34m)\u001b[0m\u001b[0;34m\u001b[0m\u001b[0;34m\u001b[0m\u001b[0m\n\u001b[1;32m     58\u001b[0m         \u001b[0;32melse\u001b[0m\u001b[0;34m:\u001b[0m\u001b[0;34m\u001b[0m\u001b[0;34m\u001b[0m\u001b[0m\n\u001b[0;32m---> 59\u001b[0;31m             \u001b[0mcls\u001b[0m \u001b[0;34m=\u001b[0m \u001b[0mload\u001b[0m\u001b[0;34m(\u001b[0m\u001b[0mself\u001b[0m\u001b[0;34m.\u001b[0m\u001b[0mentry_point\u001b[0m\u001b[0;34m)\u001b[0m\u001b[0;34m\u001b[0m\u001b[0;34m\u001b[0m\u001b[0m\n\u001b[0m\u001b[1;32m     60\u001b[0m             \u001b[0menv\u001b[0m \u001b[0;34m=\u001b[0m \u001b[0mcls\u001b[0m\u001b[0;34m(\u001b[0m\u001b[0;34m**\u001b[0m\u001b[0m_kwargs\u001b[0m\u001b[0;34m)\u001b[0m\u001b[0;34m\u001b[0m\u001b[0;34m\u001b[0m\u001b[0m\n\u001b[1;32m     61\u001b[0m \u001b[0;34m\u001b[0m\u001b[0m\n",
      "\u001b[0;32m~/FEUP/ROBO/Proj/FEUP-Robo/src/venv/lib/python3.6/site-packages/gym/envs/registration.py\u001b[0m in \u001b[0;36mload\u001b[0;34m(name)\u001b[0m\n\u001b[1;32m     17\u001b[0m     \u001b[0mmod_name\u001b[0m\u001b[0;34m,\u001b[0m \u001b[0mattr_name\u001b[0m \u001b[0;34m=\u001b[0m \u001b[0mname\u001b[0m\u001b[0;34m.\u001b[0m\u001b[0msplit\u001b[0m\u001b[0;34m(\u001b[0m\u001b[0;34m\":\"\u001b[0m\u001b[0;34m)\u001b[0m\u001b[0;34m\u001b[0m\u001b[0;34m\u001b[0m\u001b[0m\n\u001b[1;32m     18\u001b[0m     \u001b[0mmod\u001b[0m \u001b[0;34m=\u001b[0m \u001b[0mimportlib\u001b[0m\u001b[0;34m.\u001b[0m\u001b[0mimport_module\u001b[0m\u001b[0;34m(\u001b[0m\u001b[0mmod_name\u001b[0m\u001b[0;34m)\u001b[0m\u001b[0;34m\u001b[0m\u001b[0;34m\u001b[0m\u001b[0m\n\u001b[0;32m---> 19\u001b[0;31m     \u001b[0mfn\u001b[0m \u001b[0;34m=\u001b[0m \u001b[0mgetattr\u001b[0m\u001b[0;34m(\u001b[0m\u001b[0mmod\u001b[0m\u001b[0;34m,\u001b[0m \u001b[0mattr_name\u001b[0m\u001b[0;34m)\u001b[0m\u001b[0;34m\u001b[0m\u001b[0;34m\u001b[0m\u001b[0m\n\u001b[0m\u001b[1;32m     20\u001b[0m     \u001b[0;32mreturn\u001b[0m \u001b[0mfn\u001b[0m\u001b[0;34m\u001b[0m\u001b[0;34m\u001b[0m\u001b[0m\n\u001b[1;32m     21\u001b[0m \u001b[0;34m\u001b[0m\u001b[0m\n",
      "\u001b[0;31mAttributeError\u001b[0m: module 'gym.envs.box2d' has no attribute 'BipedalWalker'"
     ]
    }
   ],
   "source": [
    "env1 = gym.make(\"BipedalWalker-v3\")"
   ]
  },
  {
   "cell_type": "code",
   "execution_count": 27,
   "metadata": {},
   "outputs": [
    {
     "data": {
      "text/plain": [
       "['NOOP', 'FIRE', 'RIGHT', 'LEFT', 'RIGHTFIRE', 'LEFTFIRE']"
      ]
     },
     "execution_count": 27,
     "metadata": {},
     "output_type": "execute_result"
    }
   ],
   "source": [
    "env1.unwrapped.get_action_meanings()"
   ]
  },
  {
   "cell_type": "code",
   "execution_count": 2,
   "metadata": {},
   "outputs": [
    {
     "name": "stdout",
     "output_type": "stream",
     "text": [
      "Creating window glfw\n"
     ]
    },
    {
     "ename": "SystemExit",
     "evalue": "0",
     "output_type": "error",
     "traceback": [
      "An exception has occurred, use %tb to see the full traceback.\n",
      "\u001b[0;31mSystemExit\u001b[0m\u001b[0;31m:\u001b[0m 0\n"
     ]
    },
    {
     "name": "stderr",
     "output_type": "stream",
     "text": [
      "/home/dean/FEUP/ROBO/Proj/FEUP-Robo/src/venv/lib/python3.6/site-packages/IPython/core/interactiveshell.py:3351: UserWarning: To exit: use 'exit', 'quit', or Ctrl-D.\n",
      "  warn(\"To exit: use 'exit', 'quit', or Ctrl-D.\", stacklevel=1)\n"
     ]
    }
   ],
   "source": [
    "env = gym.make('FetchReach-v1')\n",
    "#Sets an initial state\n",
    "env.reset()\n",
    "# Rendering our instance 300 times\n",
    "for _ in range(300):\n",
    "  #renders the environment\n",
    "  env.render()\n",
    "  #Takes a random action from its action space \n",
    "  # aka the number of unique actions an agent can perform\n",
    "  env.step(env.action_space.sample())\n",
    "env.close()"
   ]
  },
  {
   "cell_type": "code",
   "execution_count": null,
   "metadata": {},
   "outputs": [],
   "source": []
  }
 ],
 "metadata": {
  "kernelspec": {
   "display_name": "venv",
   "language": "python",
   "name": "venv"
  },
  "language_info": {
   "codemirror_mode": {
    "name": "ipython",
    "version": 3
   },
   "file_extension": ".py",
   "mimetype": "text/x-python",
   "name": "python",
   "nbconvert_exporter": "python",
   "pygments_lexer": "ipython3",
   "version": "3.6.12"
  }
 },
 "nbformat": 4,
 "nbformat_minor": 4
}
